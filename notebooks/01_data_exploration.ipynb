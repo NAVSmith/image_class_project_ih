{
 "cells": [
  {
   "cell_type": "markdown",
   "id": "83442837",
   "metadata": {},
   "source": [
    "# Data Exploration for Image Classification\n",
    "\n",
    "This notebook explores the chosen dataset (CIFAR-10 or Animals10) for image classification.\n",
    "\n",
    "## Objectives:\n",
    "- Load and inspect the dataset\n",
    "- Visualize sample images from each class\n",
    "- Analyze class distribution\n",
    "- Understand image dimensions and characteristics\n",
    "- Plan preprocessing strategy"
   ]
  },
  {
   "cell_type": "markdown",
   "id": "13ece5f7",
   "metadata": {},
   "source": [
    "## 1. Setup and Imports"
   ]
  },
  {
   "cell_type": "code",
   "execution_count": null,
   "id": "9ba9ca25",
   "metadata": {},
   "outputs": [],
   "source": [
    "import numpy as np\n",
    "import pandas as pd\n",
    "import matplotlib.pyplot as plt\n",
    "import seaborn as sns\n",
    "from collections import Counter\n",
    "import os\n",
    "\n",
    "# Deep learning libraries\n",
    "import tensorflow as tf\n",
    "from tensorflow import keras\n",
    "from tensorflow.keras.datasets import cifar10\n",
    "\n",
    "# Set style for better plots\n",
    "plt.style.use('seaborn-v0_8')\n",
    "sns.set_palette(\"husl\")\n",
    "\n",
    "print(f\"TensorFlow version: {tf.__version__}\")\n",
    "print(f\"GPU Available: {tf.config.list_physical_devices('GPU')}\")"
   ]
  },
  {
   "cell_type": "markdown",
   "id": "fd41f854",
   "metadata": {},
   "source": [
    "## 2. Dataset Selection and Loading\n",
    "\n",
    "Choose between CIFAR-10 or Animals10 dataset."
   ]
  },
  {
   "cell_type": "code",
   "execution_count": null,
   "id": "1f78f435",
   "metadata": {},
   "outputs": [],
   "source": [
    "# Dataset choice - modify this to switch between datasets\n",
    "DATASET_CHOICE = \"cifar10\"  # Options: \"cifar10\" or \"animals10\"\n",
    "\n",
    "if DATASET_CHOICE == \"cifar10\":\n",
    "    # Load CIFAR-10 dataset\n",
    "    (x_train, y_train), (x_test, y_test) = cifar10.load_data()\n",
    "    \n",
    "    # CIFAR-10 class names\n",
    "    class_names = ['airplane', 'automobile', 'bird', 'cat', 'deer', \n",
    "                   'dog', 'frog', 'horse', 'ship', 'truck']\n",
    "    \n",
    "    print(f\"CIFAR-10 Dataset Loaded\")\n",
    "    print(f\"Training set: {x_train.shape}\")\n",
    "    print(f\"Test set: {x_test.shape}\")\n",
    "    \n",
    "elif DATASET_CHOICE == \"animals10\":\n",
    "    # For Animals10, you'll need to download and load manually\n",
    "    print(\"Animals10 dataset - Manual loading required\")\n",
    "    print(\"Download from: https://www.kaggle.com/datasets/alessiocorrado99/animals10/data\")\n",
    "    print(\"Implement custom loading logic here\")\n",
    "    \n",
    "    # Placeholder - implement Animals10 loading\n",
    "    # data_dir = \"../data/animals10/\"  \n",
    "    # Load using tf.keras.preprocessing.image_dataset_from_directory\n",
    "    \n",
    "    class_names = ['dog', 'cat', 'horse', 'spider', 'butterfly', \n",
    "                   'chicken', 'sheep', 'cow', 'squirrel', 'elephant']"
   ]
  },
  {
   "cell_type": "markdown",
   "id": "159eced9",
   "metadata": {},
   "source": [
    "## 3. Dataset Overview and Statistics"
   ]
  },
  {
   "cell_type": "code",
   "execution_count": null,
   "id": "31973a48",
   "metadata": {},
   "outputs": [],
   "source": [
    "if DATASET_CHOICE == \"cifar10\":\n",
    "    print(\"Dataset Statistics:\")\n",
    "    print(f\"Number of training samples: {len(x_train)}\")\n",
    "    print(f\"Number of test samples: {len(x_test)}\")\n",
    "    print(f\"Image shape: {x_train[0].shape}\")\n",
    "    print(f\"Number of classes: {len(class_names)}\")\n",
    "    print(f\"Pixel value range: [{x_train.min()}, {x_train.max()}]\")\n",
    "    print(f\"Data type: {x_train.dtype}\")"
   ]
  },
  {
   "cell_type": "markdown",
   "id": "b876a557",
   "metadata": {},
   "source": [
    "## 4. Class Distribution Analysis"
   ]
  },
  {
   "cell_type": "code",
   "execution_count": null,
   "id": "9d3cf614",
   "metadata": {},
   "outputs": [],
   "source": [
    "if DATASET_CHOICE == \"cifar10\":\n",
    "    # Analyze class distribution\n",
    "    train_class_counts = Counter(y_train.flatten())\n",
    "    test_class_counts = Counter(y_test.flatten())\n",
    "    \n",
    "    # Create distribution plots\n",
    "    fig, (ax1, ax2) = plt.subplots(1, 2, figsize=(15, 5))\n",
    "    \n",
    "    # Training set distribution\n",
    "    train_counts = [train_class_counts[i] for i in range(len(class_names))]\n",
    "    ax1.bar(class_names, train_counts)\n",
    "    ax1.set_title('Training Set Class Distribution')\n",
    "    ax1.set_xlabel('Classes')\n",
    "    ax1.set_ylabel('Number of Images')\n",
    "    ax1.tick_params(axis='x', rotation=45)\n",
    "    \n",
    "    # Test set distribution\n",
    "    test_counts = [test_class_counts[i] for i in range(len(class_names))]\n",
    "    ax2.bar(class_names, test_counts)\n",
    "    ax2.set_title('Test Set Class Distribution')\n",
    "    ax2.set_xlabel('Classes')\n",
    "    ax2.set_ylabel('Number of Images')\n",
    "    ax2.tick_params(axis='x', rotation=45)\n",
    "    \n",
    "    plt.tight_layout()\n",
    "    plt.show()\n",
    "    \n",
    "    print(\"\\nClass distribution:\")\n",
    "    for i, class_name in enumerate(class_names):\n",
    "        print(f\"{class_name}: Train={train_class_counts[i]}, Test={test_class_counts[i]}\")"
   ]
  },
  {
   "cell_type": "markdown",
   "id": "d54772b0",
   "metadata": {},
   "source": [
    "## 5. Sample Image Visualization"
   ]
  },
  {
   "cell_type": "code",
   "execution_count": null,
   "id": "7ff091ab",
   "metadata": {},
   "outputs": [],
   "source": [
    "if DATASET_CHOICE == \"cifar10\":\n",
    "    # Function to display sample images\n",
    "    def plot_sample_images(X, y, class_names, samples_per_class=5):\n",
    "        fig, axes = plt.subplots(len(class_names), samples_per_class, \n",
    "                               figsize=(samples_per_class*2, len(class_names)*2))\n",
    "        \n",
    "        for class_idx in range(len(class_names)):\n",
    "            # Find indices for current class\n",
    "            class_indices = np.where(y.flatten() == class_idx)[0]\n",
    "            \n",
    "            for sample_idx in range(samples_per_class):\n",
    "                if sample_idx < len(class_indices):\n",
    "                    img_idx = class_indices[sample_idx]\n",
    "                    img = X[img_idx]\n",
    "                    \n",
    "                    axes[class_idx, sample_idx].imshow(img)\n",
    "                    axes[class_idx, sample_idx].set_title(f'{class_names[class_idx]}')\n",
    "                    axes[class_idx, sample_idx].axis('off')\n",
    "                else:\n",
    "                    axes[class_idx, sample_idx].axis('off')\n",
    "        \n",
    "        plt.tight_layout()\n",
    "        plt.show()\n",
    "    \n",
    "    # Display sample images\n",
    "    print(\"Sample images from each class:\")\n",
    "    plot_sample_images(x_train, y_train, class_names, samples_per_class=5)"
   ]
  },
  {
   "cell_type": "markdown",
   "id": "4988f66e",
   "metadata": {},
   "source": [
    "## 6. Pixel Value Distribution Analysis"
   ]
  },
  {
   "cell_type": "code",
   "execution_count": null,
   "id": "708e6588",
   "metadata": {},
   "outputs": [],
   "source": [
    "if DATASET_CHOICE == \"cifar10\":\n",
    "    # Analyze pixel value distributions\n",
    "    fig, axes = plt.subplots(1, 3, figsize=(15, 4))\n",
    "    \n",
    "    # RGB channel distributions\n",
    "    colors = ['red', 'green', 'blue']\n",
    "    channel_names = ['Red', 'Green', 'Blue']\n",
    "    \n",
    "    for i in range(3):\n",
    "        channel_data = x_train[:, :, :, i].flatten()\n",
    "        axes[i].hist(channel_data, bins=50, color=colors[i], alpha=0.7)\n",
    "        axes[i].set_title(f'{channel_names[i]} Channel Distribution')\n",
    "        axes[i].set_xlabel('Pixel Value')\n",
    "        axes[i].set_ylabel('Frequency')\n",
    "    \n",
    "    plt.tight_layout()\n",
    "    plt.show()\n",
    "    \n",
    "    # Calculate channel statistics\n",
    "    print(\"\\nChannel Statistics:\")\n",
    "    for i, channel in enumerate(channel_names):\n",
    "        channel_data = x_train[:, :, :, i]\n",
    "        print(f\"{channel} - Mean: {channel_data.mean():.2f}, Std: {channel_data.std():.2f}\")"
   ]
  },
  {
   "cell_type": "markdown",
   "id": "eb0ec582",
   "metadata": {},
   "source": [
    "## 7. Key Insights and Preprocessing Strategy"
   ]
  },
  {
   "cell_type": "markdown",
   "id": "420c9983",
   "metadata": {},
   "source": [
    "### Observations:\n",
    "\n",
    "**Dataset Characteristics:**\n",
    "- Image dimensions: 32x32x3 (for CIFAR-10)\n",
    "- Pixel values: 0-255 (uint8)\n",
    "- Classes: Balanced distribution\n",
    "\n",
    "**Preprocessing Strategy:**\n",
    "1. **Normalization**: Scale pixel values to [0,1] range\n",
    "2. **Data Augmentation**: Apply rotation, flip, zoom, shift\n",
    "3. **Train/Val Split**: Use 80/20 or 70/15/15 split\n",
    "4. **One-hot Encoding**: Convert labels for categorical crossentropy\n",
    "\n",
    "**Next Steps:**\n",
    "- Implement preprocessing pipeline\n",
    "- Design custom CNN architecture\n",
    "- Implement transfer learning approach\n",
    "- Compare model performances"
   ]
  },
  {
   "cell_type": "code",
   "execution_count": null,
   "id": "f93f7db1",
   "metadata": {},
   "outputs": [],
   "source": [
    "# Save key variables for next notebooks\n",
    "print(f\"Dataset choice: {DATASET_CHOICE}\")\n",
    "print(f\"Number of classes: {len(class_names)}\")\n",
    "print(f\"Class names: {class_names}\")\n",
    "if DATASET_CHOICE == \"cifar10\":\n",
    "    print(f\"Image shape: {x_train.shape[1:]}\")\n",
    "    print(f\"Training samples: {len(x_train)}\")\n",
    "    print(f\"Test samples: {len(x_test)}\")"
   ]
  }
 ],
 "metadata": {
  "language_info": {
   "name": "python"
  }
 },
 "nbformat": 4,
 "nbformat_minor": 5
}
